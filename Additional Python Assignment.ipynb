{
 "cells": [
  {
   "cell_type": "markdown",
   "id": "thermal-corporation",
   "metadata": {},
   "source": [
    "# Assume Data wherever needed/necessary"
   ]
  },
  {
   "cell_type": "markdown",
   "id": "central-malta",
   "metadata": {},
   "source": [
    "### Loop Statements"
   ]
  },
  {
   "cell_type": "code",
   "execution_count": null,
   "id": "elementary-guatemala",
   "metadata": {},
   "outputs": [],
   "source": [
    "#L1\n",
    "WAP to print all elements of a list using a for loop. \n",
    "Take the elements of the list from the user.\n",
    "\n",
    "For e.g. Input: l = [3,'Hi',67,0,12,0,8]\n",
    "        Output: 3\n",
    "                'Hi'\n",
    "                67\n",
    "                0\n",
    "                12\n",
    "                0\n",
    "                8"
   ]
  },
  {
   "cell_type": "code",
   "execution_count": null,
   "id": "overall-naples",
   "metadata": {},
   "outputs": [],
   "source": [
    "#L2\n",
    "WAP to take inputs from user to make a list. Length of the list has to be taken from the user.\n",
    "Again take one input from user and search it in the list and delete that element, if found.\n",
    "If not found, print \"Element not present\".\n",
    "\n",
    "For e.g. Input: len_list = 5\n",
    "                list = [\"a\", \"b\", \"y\", \"e\", \"p\"]\n",
    "                search_element = \"g\"\n",
    "                    Output: \"Element not found\"\n",
    "                search_element = \"e\"\n",
    "                    Output: [\"a\", \"b\", \"y\", \"p\"]"
   ]
  },
  {
   "cell_type": "code",
   "execution_count": null,
   "id": "specific-catalog",
   "metadata": {},
   "outputs": [],
   "source": [
    "#L3\n",
    "Make a grading system for a school based on the marks of the students using the following criteria.\n",
    "Marks 0 - 40 : Grade F\n",
    "     41 - 50 : Grade E\n",
    "     51 - 70 : Grade D\n",
    "     71 - 80 : Grade C\n",
    "     81 - 90 : Grade B\n",
    "     91 - 100: Grade A\n",
    "Continuously take marks as input from the user and print the grade. \n",
    "The user can enter \"Stop\" to stop the loop."
   ]
  },
  {
   "cell_type": "code",
   "execution_count": null,
   "id": "italic-casino",
   "metadata": {},
   "outputs": [],
   "source": [
    "#L4\n",
    "WAP to save the cube of all numbers from 1 to a number n in list, \n",
    "where n is taken as input from the user.\n",
    "\n",
    "For e.g. Input: 5\n",
    "        Output: [1, 8, 27, 64, 125]  #Cube of numbers from 1 to 5 where 5 is the input from the user"
   ]
  },
  {
   "cell_type": "code",
   "execution_count": null,
   "id": "nervous-publication",
   "metadata": {},
   "outputs": [],
   "source": [
    "#L5\n",
    "WAP to print even numbers in a given range in reverse order. Take the range from the user.\n",
    "\n",
    "For e.g. Input: start = 3\n",
    "                End = 14\n",
    "        Output: 14, 12, 10, 8, 6, 4"
   ]
  },
  {
   "cell_type": "code",
   "execution_count": null,
   "id": "juvenile-scope",
   "metadata": {},
   "outputs": [],
   "source": [
    "#L6\n",
    "WAP to print odd numbers in a given range in reverse order.\n",
    "Take the range from the user.\n",
    "\n",
    "For e.g. Input: start = 3\n",
    "                End = 14\n",
    "        Output: 13, 11, 9, 7, 5, 3"
   ]
  },
  {
   "cell_type": "code",
   "execution_count": null,
   "id": "southwest-barrel",
   "metadata": {},
   "outputs": [],
   "source": [
    "L7\n",
    "WAP to print multiplication table of a number taken as input from the user.\n",
    "\n",
    "For e.g. Input: 5\n",
    "        Output: 5*1 = 5\n",
    "                5*2 = 10\n",
    "                .\n",
    "                .\n",
    "                .\n",
    "                5*10 = 50"
   ]
  },
  {
   "cell_type": "code",
   "execution_count": null,
   "id": "german-potter",
   "metadata": {},
   "outputs": [],
   "source": [
    "#L8\n",
    "WAP to print the following pattern.\n",
    "\n",
    "1\n",
    "1 2\n",
    "1 2 3\n",
    "1 2 3 4"
   ]
  },
  {
   "cell_type": "code",
   "execution_count": null,
   "id": "activated-orbit",
   "metadata": {},
   "outputs": [],
   "source": [
    "#L9\n",
    "Write a program to calculate the sum of series up to n terms for a digit d. n & d are taken as input from the user.\n",
    "\n",
    "For example:\n",
    "    Input: n = 5, d = 2\n",
    "    Logic: 2 + 22 + 222 + 2222 + 22222 \n",
    "    Output: 24690"
   ]
  },
  {
   "cell_type": "code",
   "execution_count": null,
   "id": "spread-answer",
   "metadata": {},
   "outputs": [],
   "source": [
    "#L10\n",
    "WAP that keeps on accepting numbers from the user until the user enters Zero(0) as input.\n",
    "Display the sum and average of all the numbers.\n",
    "\n",
    "For example:\n",
    "    Input: 3, 6, 8, 2, 5, Stop\n",
    "    Output: Sum = 24\n",
    "            Average = 4.8"
   ]
  },
  {
   "cell_type": "code",
   "execution_count": null,
   "id": "incorporated-stupid",
   "metadata": {},
   "outputs": [],
   "source": [
    "#L11\n",
    "Accept n numbers from the user and display their average. n is input from the user.\n",
    "\n",
    "For example:\n",
    "    Input: n = 5\n",
    "        Numbers = 3, 6, 2, 9, 0\n",
    "    Output: Average = 4.0"
   ]
  },
  {
   "cell_type": "code",
   "execution_count": null,
   "id": "interim-disco",
   "metadata": {},
   "outputs": [],
   "source": []
  },
  {
   "cell_type": "markdown",
   "id": "shared-cemetery",
   "metadata": {},
   "source": [
    "### String Questions"
   ]
  },
  {
   "cell_type": "code",
   "execution_count": null,
   "id": "referenced-order",
   "metadata": {},
   "outputs": [],
   "source": [
    "#S1\n",
    "Write a Python program to count the number of each of the characters (character frequency) \n",
    "\n",
    "   in a string input by the user. Ignore the case.\n",
    "   For example: Input: \"Python is great\"\n",
    "\t\tOutput: P = 1, y = 1, t = 2, and so on..."
   ]
  },
  {
   "cell_type": "code",
   "execution_count": null,
   "id": "confirmed-graduate",
   "metadata": {},
   "outputs": [],
   "source": [
    "#S2\n",
    "Write a Python program to find the digits which are absent in a given mobile number.\n",
    "\n",
    "   For example: Input : 9354328855\n",
    "                Output: 0167"
   ]
  },
  {
   "cell_type": "code",
   "execution_count": null,
   "id": "graduate-scratch",
   "metadata": {},
   "outputs": [],
   "source": [
    "#S3\n",
    "WAP in python to find average of n numbers taken as input from the user dynamically."
   ]
  },
  {
   "cell_type": "code",
   "execution_count": null,
   "id": "international-hazard",
   "metadata": {},
   "outputs": [],
   "source": [
    "#S4\n",
    "WAP in python that accepts a hyphen-separated sequence of \n",
    "words as input and prints the words in a hyphen-separated \n",
    "sequence after sorting them alphabetically.\n",
    "\n",
    "For e.g. Input: \"p-y-t-h-o-n\"\n",
    "        Output: ['h', 'n','o', 'p', 't', 'y']"
   ]
  },
  {
   "cell_type": "code",
   "execution_count": null,
   "id": "dense-jungle",
   "metadata": {},
   "outputs": [],
   "source": [
    "#S5\n",
    "WAP in python to find the number of vowels, consonants, digits, special \n",
    "characters and white space characters in a string input by the user.\n",
    "\n",
    "Example: Input: \"Qwerty@123\"\n",
    "\toutput: v = 1, c = 5, d = 3, w = 0, s = 1"
   ]
  },
  {
   "cell_type": "code",
   "execution_count": null,
   "id": "black-publicity",
   "metadata": {},
   "outputs": [],
   "source": [
    "#S6\n",
    "WAP in python to check the strength of the password input by the user based on the following features.\n",
    "    Length minimum of 8 characters  (+1 Strength)\n",
    "    Combination of upper case & lower case characters (+1 Strength)\n",
    "    Combination of alphabets & digits (+1 Strength)\n",
    "    Use of Special Characters (+1 Strength)\n",
    "    \n",
    "Example: Input: \"Qwerty@123\"\n",
    "        Output: Strength = 4"
   ]
  },
  {
   "cell_type": "code",
   "execution_count": null,
   "id": "fresh-encoding",
   "metadata": {},
   "outputs": [],
   "source": [
    "#S7\n",
    "WAP in python to compare two strings and tell the user if both of those strings are same or not. \n",
    "Ignore their case.\n",
    "\n",
    "Example: Input String1: \"Hello\"\n",
    "\tInput String2: \"hello\"\n",
    "\tOutput: Strings are same"
   ]
  },
  {
   "cell_type": "code",
   "execution_count": null,
   "id": "acoustic-pastor",
   "metadata": {},
   "outputs": [],
   "source": [
    "#S8\n",
    "WAP in python to calculate the number of times a character is repeated in a given string.\n",
    "Take the string and character from the user.\n",
    "\n",
    "Example: Input String: \"Neil Nitin Mukesh\"\n",
    "        Input Character: \"e\"\n",
    "        Output: 2"
   ]
  },
  {
   "cell_type": "code",
   "execution_count": null,
   "id": "handmade-bidding",
   "metadata": {},
   "outputs": [],
   "source": [
    "#S9\n",
    "WAP in python which accepts string from the user and displays only those characters/elements which are present at an even index.\n",
    "\n",
    "Example: \n",
    "    Input: \"Python\"\n",
    "    Output: Pto"
   ]
  },
  {
   "cell_type": "code",
   "execution_count": null,
   "id": "polish-regulation",
   "metadata": {},
   "outputs": [],
   "source": [
    "#S10\n",
    "WAP in python to capitalize the first letter of the First Name and Surname where whole name is taken as input from the user.\n",
    "\n",
    "Example: Input: \"first last\" or \"FIRST LAST\" or \"first lAst\" i.e. Input can be in any case.\n",
    "        Output: \"First Last\""
   ]
  },
  {
   "cell_type": "code",
   "execution_count": null,
   "id": "thrown-hampshire",
   "metadata": {},
   "outputs": [],
   "source": [
    "#S11\n",
    "Write a Python program that accepts a comma separated sequence of words as input and \n",
    "prints the unique words in sorted form (alphanumerically).\n",
    "\n",
    "\tSample Words : red, white, black, red, green    \n",
    "\tExpected Result : black, green, red, red, white"
   ]
  },
  {
   "cell_type": "code",
   "execution_count": null,
   "id": "empty-necklace",
   "metadata": {},
   "outputs": [],
   "source": [
    "#S12\n",
    "Write a Python program to count repeated characters in a string.\n",
    "\n",
    "\tSample string: 'thequickbrownfoxjumpsoverthelazydog'\n",
    "\tExpected output :\n",
    "\t\t\to 4\n",
    "\t\t\te 3\n",
    "\t\t\tu 2\n",
    "\t\t\th 2\n",
    "\t\t\tr 2\n",
    "\t\t\tt 2"
   ]
  },
  {
   "cell_type": "code",
   "execution_count": null,
   "id": "local-herald",
   "metadata": {},
   "outputs": [],
   "source": []
  },
  {
   "cell_type": "code",
   "execution_count": null,
   "id": "hidden-trout",
   "metadata": {},
   "outputs": [],
   "source": []
  },
  {
   "cell_type": "code",
   "execution_count": null,
   "id": "female-ladder",
   "metadata": {},
   "outputs": [],
   "source": []
  },
  {
   "cell_type": "markdown",
   "id": "phantom-woman",
   "metadata": {},
   "source": [
    "### List Questions"
   ]
  },
  {
   "cell_type": "code",
   "execution_count": null,
   "id": "average-intervention",
   "metadata": {},
   "outputs": [],
   "source": [
    "#Li1\n",
    "WAP to remove empty strings from the list of strings. Take list as input from the user.\n",
    "\n",
    "For example: Input: [\"My\", \"name\", \"\", \"is\", \"\", \"Alankrita\", \"\", \".\"]\n",
    "            Output: [\"My\", \"name\", \"is\", \"Alankrita\", \".\"]"
   ]
  },
  {
   "cell_type": "code",
   "execution_count": null,
   "id": "level-provision",
   "metadata": {},
   "outputs": [],
   "source": [
    "#Li2\n",
    "WAP to make a list of all the characters starting from character 'A' to the input character from the user.\n",
    "\n",
    "For e.g. Input: 'H'\n",
    "        Output: [\"A\", \"B\", \"C\", \"D\", \"E\", \"F\", \"G\", \"H\"]"
   ]
  },
  {
   "cell_type": "code",
   "execution_count": null,
   "id": "foreign-freeware",
   "metadata": {},
   "outputs": [],
   "source": [
    "#Li3\n",
    "WAP to check if a specific employee e is present in a company or not. Employee names are saved in a list.\n",
    "e is taken as input from the user.\n",
    "\n",
    "For example: empList = [\"Ashwin\", \"Rachit\", \"Sanjana\", \"David\", \"Komal\"]\n",
    "            Input1: \"Komal\"\n",
    "            Output1: \"Employee is present\"\n",
    "            \n",
    "            Input2: \"Harshil\"\n",
    "            Output2: \"Employee is not present\""
   ]
  },
  {
   "cell_type": "code",
   "execution_count": null,
   "id": "roman-aaron",
   "metadata": {},
   "outputs": [],
   "source": [
    "#Li4\n",
    "Write a python program to find the maximum and minimum number in a list of 10 elements \n",
    "   (taken as input from the user) and also find the index position of the these numbers.\n",
    "    \n",
    "   For example: Input : [25, 2, 1, 86, 42, 32, 27, 12, 31, 10]\n",
    "\t\tOutput: Max Number: 86, Index of Max Number: 3\n",
    "\t\t\tMin Number: 1, Index of Min Number: 2"
   ]
  },
  {
   "cell_type": "code",
   "execution_count": null,
   "id": "announced-victor",
   "metadata": {},
   "outputs": [],
   "source": [
    "#Li5\n",
    "Given two Python lists of same length. Iterate both lists simultaneously such that list1 \n",
    "   should display item in original order and list2 in reverse order.\n",
    "    \n",
    "   For example: Input = list1 = [10, 20, 30, 40]\n",
    "\t\t\tlist2 = [100, 200, 300, 400]\n",
    "            Output: 10 400\n",
    "                    20 300\n",
    "                    30 200\n",
    "                    40 100"
   ]
  },
  {
   "cell_type": "code",
   "execution_count": null,
   "id": "rural-stevens",
   "metadata": {},
   "outputs": [],
   "source": [
    "Li6\n",
    "WAP to concatenate two lists index-wise.\n",
    "list1 = [\"M\", \"na\", \"i\", \"Ashu\"]\n",
    "list2 = [\"y\", \"me\", \"s\", \"tosh\"]\n",
    "Output: ['My', 'name', 'is', 'Ashutosh']"
   ]
  },
  {
   "cell_type": "code",
   "execution_count": null,
   "id": "accessory-switch",
   "metadata": {},
   "outputs": [],
   "source": [
    "#Li7\n",
    "WAP to remove/delete items from a list while iterating without creating a duplicate list.\n",
    "Take the elements to be deleted from the user in real-time."
   ]
  },
  {
   "cell_type": "code",
   "execution_count": null,
   "id": "massive-bangladesh",
   "metadata": {},
   "outputs": [],
   "source": [
    "#Li8\n",
    "WAP to generate a Python list of all the prime numbers between n to m where n & m are taken as input from the user."
   ]
  },
  {
   "cell_type": "code",
   "execution_count": null,
   "id": "active-terrace",
   "metadata": {},
   "outputs": [],
   "source": [
    "#Li9\n",
    "WAP to concatenate two lists in the following order:\n",
    "    list1 = [\"Hello \", \"World\"]\n",
    "    list2 = [\"Hi\", \"There\"]\n",
    "    Output: ['Hello Hi', 'Hello There', 'World Hi', 'World There']"
   ]
  },
  {
   "cell_type": "code",
   "execution_count": null,
   "id": "documentary-labor",
   "metadata": {},
   "outputs": [],
   "source": [
    "#Li10\n",
    "Given two lists having names of students and their corrsponding marks.\n",
    "names = [\"Ashutosh\", \"Ajay\", \"Alankrita\", \"Rachit\", \"Komal\", \"Anil\"]\n",
    "marks = [23, 21, 26, 23, 27, 24]\n",
    "Take name of a student as input from the user and output his/her marks.\n",
    "\n",
    "For e.g.:\n",
    "    Input1: \"Alankrita\"\n",
    "    Output1: 26\n",
    "        \n",
    "    Input2: \"Someone\"\n",
    "    Output2: \"Student not found\""
   ]
  },
  {
   "cell_type": "code",
   "execution_count": null,
   "id": "growing-burden",
   "metadata": {},
   "outputs": [],
   "source": [
    "#Li11\n",
    "Extended question of #Li10\n",
    "Add an option to change marks of any students in the same code of #Li10. Take student name and new marks from the user. \n",
    "Print the modified list as output.\n",
    "\n",
    "For e.g.: Input: \"Ajay\"\n",
    "        new_mark: 25\n",
    "        Output: marks = [23, 25, 26, 23, 27, 24]"
   ]
  },
  {
   "cell_type": "code",
   "execution_count": null,
   "id": "celtic-coordinator",
   "metadata": {},
   "outputs": [],
   "source": [
    "#Li12\n",
    "Extended question of #Li10\n",
    "Give an option to enter the marks of a new student into the existing lists names and marks. Take new data as input from user.\n",
    "Print the new names and marks list as output.\n",
    "\n",
    "For e.g.: Input: New_name = \"Harshil\"\n",
    "                new_Marks = 20\n",
    "        Output: names = [\"Ashutosh\", \"Ajay\", \"Alankrita\", \"Rachit\", \"Komal\", \"Anil\", \"Harshil\"]\n",
    "                marks = [23, 21, 26, 23, 27, 24, 20]"
   ]
  },
  {
   "cell_type": "code",
   "execution_count": null,
   "id": "innovative-garage",
   "metadata": {},
   "outputs": [],
   "source": []
  },
  {
   "cell_type": "code",
   "execution_count": null,
   "id": "direct-vinyl",
   "metadata": {},
   "outputs": [],
   "source": []
  },
  {
   "cell_type": "markdown",
   "id": "noble-rogers",
   "metadata": {},
   "source": [
    "### Dictionary Questions"
   ]
  },
  {
   "cell_type": "code",
   "execution_count": null,
   "id": "disturbed-stream",
   "metadata": {},
   "outputs": [],
   "source": [
    "#D1\n",
    "WAP in Python to merge following dictionaries to create a new one:\n",
    "\tdic1={1:10, 2:20}\n",
    "\tdic2={3:30, 4:40}\n",
    "\tdic3={5:50, 6:60}"
   ]
  },
  {
   "cell_type": "code",
   "execution_count": null,
   "id": "lyric-illinois",
   "metadata": {},
   "outputs": [],
   "source": [
    "#D2\n",
    "WAP in python to generate and print a dictionary that contains a number (between 1 and n) \n",
    "in the form {x : x*x} where n is the input from the user.\n",
    "\n",
    "For e.g. Input: 4\n",
    "        Output: {1:1, 2:4, 3:9, 4:16}"
   ]
  },
  {
   "cell_type": "code",
   "execution_count": null,
   "id": "roman-orleans",
   "metadata": {},
   "outputs": [],
   "source": [
    "#D3\n",
    "WAP in python to find the number of vowels, consonants, digits, white space characters & \n",
    "special characters in a string and save the result in the form of a dictionary."
   ]
  },
  {
   "cell_type": "code",
   "execution_count": null,
   "id": "administrative-tunisia",
   "metadata": {},
   "outputs": [],
   "source": [
    "#D4\n",
    "WAP to reverse map the dictionary items. Take dictionary as input from the user.\n",
    "\n",
    "\tFor eg., Input: d = {'A': 65, 'B': 66, 'C': 67, 'D': 68}\n",
    "            Output: d = {65: 'A', 66: 'B', 67: 'C', 68: 'D'}"
   ]
  },
  {
   "cell_type": "code",
   "execution_count": null,
   "id": "empirical-effort",
   "metadata": {},
   "outputs": [],
   "source": [
    "#D5\n",
    "WAP to save Username and Password of 10 employees in an organisation. \n",
    "Take the Username and Password as input from the user one by one and save in the Dictionary."
   ]
  },
  {
   "cell_type": "code",
   "execution_count": null,
   "id": "driven-glossary",
   "metadata": {},
   "outputs": [],
   "source": [
    "#D6\n",
    "Extended Question from #D5\n",
    "Write an additional functionality to check if an employee is present in the organisation or not.\n",
    "Basically \"Search\" Functionality based on their username\n",
    "Take employee name as input from the user.\n",
    "If the employee is present, print \"Present\" else print \"Not Present\""
   ]
  },
  {
   "cell_type": "code",
   "execution_count": null,
   "id": "stainless-replication",
   "metadata": {},
   "outputs": [],
   "source": []
  },
  {
   "cell_type": "markdown",
   "id": "heated-announcement",
   "metadata": {},
   "source": [
    "### Misc. Questions - i.e. you can use any data type which seems feasible for question"
   ]
  },
  {
   "cell_type": "code",
   "execution_count": null,
   "id": "pursuant-confidentiality",
   "metadata": {},
   "outputs": [],
   "source": [
    "#M1\n",
    "WAP in python that accepts two integers (n) & (m) from user and \n",
    "computes the value of 2n3 + 5m2 - 7n + 10"
   ]
  },
  {
   "cell_type": "code",
   "execution_count": null,
   "id": "different-pilot",
   "metadata": {},
   "outputs": [],
   "source": [
    "#M2\n",
    "Write a python program to find the intersection of elements from two list \n",
    "(find the common elements in two lists)."
   ]
  },
  {
   "cell_type": "code",
   "execution_count": null,
   "id": "inner-american",
   "metadata": {},
   "outputs": [],
   "source": [
    "#M3\n",
    "WAP in Python to find the Max of n numbers all taken as input from the user."
   ]
  },
  {
   "cell_type": "code",
   "execution_count": null,
   "id": "pointed-consensus",
   "metadata": {},
   "outputs": [],
   "source": [
    "#M4\n",
    "WAP which takes a sequence of numbers from the user and check if all input numbers are unique."
   ]
  },
  {
   "cell_type": "code",
   "execution_count": null,
   "id": "broadband-christmas",
   "metadata": {},
   "outputs": [],
   "source": [
    "#M5\n",
    "WAP to reverse a given integer number.\n",
    "Example: Input: 105320\n",
    "        Output: 023501"
   ]
  },
  {
   "cell_type": "code",
   "execution_count": null,
   "id": "canadian-latino",
   "metadata": {},
   "outputs": [],
   "source": [
    "#M6\n",
    "WAP to take 10 integer inputs from the user and save them in a list. \n",
    "The inputs have to be mix of even and odd numbers. \n",
    "Now make one list to save all the even numbers from the input list. \n",
    "Make another list for odd numbers too."
   ]
  },
  {
   "cell_type": "code",
   "execution_count": null,
   "id": "unique-account",
   "metadata": {},
   "outputs": [],
   "source": [
    "#M7\n",
    "WAP to convert temperature in Fahrenheit to Celsius. Take the temperature from the user in float type."
   ]
  },
  {
   "cell_type": "code",
   "execution_count": null,
   "id": "primary-stocks",
   "metadata": {},
   "outputs": [],
   "source": [
    "#M8\n",
    "WAP to continuously take Names as input from the user. \n",
    "Save the incoming names into a list as Full Name and save {First Name:Second Name} in a dictionary.\n",
    "Take inputs till the user enters \"Stop\"\n",
    "\n",
    "For e.g.: Input: \"Shahrukh Khan\", \"Gauri Khan\",...................\"Stop\"\n",
    "         Output: list1 = [\"Shahrukh Khan\", \"Gauri Khan\",....................]\n",
    "                dict1 = {\"Shahrukh\":\"Khan\", \"Gauri\":\"Khan\", .....................}"
   ]
  },
  {
   "cell_type": "code",
   "execution_count": null,
   "id": "sunrise-sculpture",
   "metadata": {},
   "outputs": [],
   "source": [
    "#M9\n",
    "WAP to make a simple and compound interest calculator. Take all the necessary data as input from the user."
   ]
  },
  {
   "cell_type": "code",
   "execution_count": null,
   "id": "tired-tower",
   "metadata": {},
   "outputs": [],
   "source": [
    "#M10\n"
   ]
  },
  {
   "cell_type": "code",
   "execution_count": null,
   "id": "realistic-armor",
   "metadata": {},
   "outputs": [],
   "source": []
  }
 ],
 "metadata": {
  "kernelspec": {
   "display_name": "Python 3",
   "language": "python",
   "name": "python3"
  },
  "language_info": {
   "codemirror_mode": {
    "name": "ipython",
    "version": 3
   },
   "file_extension": ".py",
   "mimetype": "text/x-python",
   "name": "python",
   "nbconvert_exporter": "python",
   "pygments_lexer": "ipython3",
   "version": "3.9.1"
  }
 },
 "nbformat": 4,
 "nbformat_minor": 5
}
